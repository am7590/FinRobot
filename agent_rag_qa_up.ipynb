{
 "cells": [
  {
   "cell_type": "code",
   "execution_count": 1,
   "id": "547c015e-c328-45f0-b904-47016ed8d377",
   "metadata": {},
   "outputs": [],
   "source": [
    "import os\n",
    "import autogen\n",
    "from autogen.cache import Cache"
   ]
  },
  {
   "cell_type": "code",
   "execution_count": 2,
   "id": "91b8f5d1-ca9d-4ed3-9fba-c5a1e94a59fc",
   "metadata": {},
   "outputs": [],
   "source": [
    "import sys\n",
    "import os\n",
    "# Add the parent directory to the system path\n",
    "parent_directory = os.path.abspath(os.path.join(os.getcwd(), '..'))\n",
    "if parent_directory not in sys.path:\n",
    "    sys.path.insert(0, parent_directory)"
   ]
  },
  {
   "cell_type": "code",
   "execution_count": 3,
   "id": "2cb9dd28-303f-4f93-9c99-a6657bc5b46e",
   "metadata": {},
   "outputs": [
    {
     "name": "stdout",
     "output_type": "stream",
     "text": [
      "['/Users/yilin/opt/anaconda3/envs/finrobotragup/lib/python3.10/site-packages/ray/thirdparty_files', '/Users/yilin/opt/anaconda3/envs/finrobotragup/lib/python310.zip', '/Users/yilin/opt/anaconda3/envs/finrobotragup/lib/python3.10', '/Users/yilin/opt/anaconda3/envs/finrobotragup/lib/python3.10/lib-dynload', '', '/Users/yilin/opt/anaconda3/envs/finrobotragup/lib/python3.10/site-packages', '/Users/yilin/FinRobot']\n"
     ]
    }
   ],
   "source": [
    "print(sys.path)"
   ]
  },
  {
   "cell_type": "code",
   "execution_count": 4,
   "id": "ee50f8ce-9b70-43db-ad3f-29da9dd45fb5",
   "metadata": {},
   "outputs": [],
   "source": [
    "!pip install langchain-chroma -U -q\n",
    "!pip install sentence-transformers -q"
   ]
  },
  {
   "cell_type": "code",
   "execution_count": 3,
   "id": "6caff0bb-b5f4-486c-9215-6ec97de64eb8",
   "metadata": {},
   "outputs": [],
   "source": [
    "from finrobot.data_source.earnings_calls_src.main_earningsData import get_earnings_all_docs\n",
    "from finrobot.data_source.earnings_calls_src import earningsData\n",
    "from finrobot.data_source.filings_src import sec_main as unstructured_sec_main\n",
    "from finrobot.data_source.earnings_calls_src.main_earningsData import get_earnings_all_docs\n",
    "from finrobot.data_source.earnings_calls_src import earningsData\n",
    "#from finrobot.data_source.finance_data import get_data\n",
    "from langchain.text_splitter import RecursiveCharacterTextSplitter\n",
    "from langchain_chroma import Chroma\n",
    "from langchain_community.embeddings.sentence_transformer import SentenceTransformerEmbeddings"
   ]
  },
  {
   "cell_type": "code",
   "execution_count": 4,
   "id": "992ee4ff-3310-4a98-864d-2e3297582884",
   "metadata": {},
   "outputs": [],
   "source": [
    "from finrobot.functional.ragqueryupup import rag_database_earnings_call\n",
    "#from finrobot.functional.ragqueryupup import rag_database_unstructured_sec\n",
    "from finrobot.functional.ragqueryupup import rag_database_sec"
   ]
  },
  {
   "cell_type": "code",
   "execution_count": 5,
   "id": "4dda7841-8e4d-4649-802d-09fa279299ec",
   "metadata": {},
   "outputs": [],
   "source": [
    "#ticker = 'GOOG'\n",
    "ticker = 'NVDA'\n",
    "year = '2023'\n",
    "filing_types = ['10-K','10-Q']\n",
    "include_amends = True"
   ]
  },
  {
   "cell_type": "code",
   "execution_count": 6,
   "id": "e49b24a9-6f76-4045-b0d0-8a00d8bd6d58",
   "metadata": {},
   "outputs": [
    {
     "name": "stdout",
     "output_type": "stream",
     "text": [
      "Earnings Call Q1\n",
      "Earnings Call Q2\n",
      "Earnings Call Q3\n",
      "Earnings Call Q4\n"
     ]
    }
   ],
   "source": [
    "query_database_earnings_call, earnings_call_quarter_vals, quarter_speaker_dict = rag_database_earnings_call(ticker = ticker, year = year)"
   ]
  },
  {
   "cell_type": "code",
   "execution_count": 7,
   "id": "1746ee5a-3fa7-4d5b-b526-7f767440b387",
   "metadata": {},
   "outputs": [],
   "source": [
    "global FROM_MARKDOWN\n",
    "FROM_MARKDOWN = False"
   ]
  },
  {
   "cell_type": "code",
   "execution_count": 8,
   "id": "fec8d299-ee74-4db3-aac3-f941b075fa72",
   "metadata": {},
   "outputs": [
    {
     "name": "stdout",
     "output_type": "stream",
     "text": [
      "Started Scraping\n",
      "Scraped\n",
      "Started Extracting\n",
      "Extracted\n"
     ]
    }
   ],
   "source": [
    "query_database_sec, sec_form_names = rag_database_sec(ticker = ticker, year = year,FROM_MARKDOWN = FROM_MARKDOWN)"
   ]
  },
  {
   "cell_type": "code",
   "execution_count": 9,
   "id": "a9306dfe-a3b5-48dd-8928-c3f74464ada3",
   "metadata": {},
   "outputs": [],
   "source": [
    "sec_form_system_msg = \"\"\n",
    "#llm_config = {\"model\":\"gpt-4-turbo\"}\n",
    "for sec_form in sec_form_names:\n",
    "    if sec_form == \"10-K\":\n",
    "        sec_form_system_msg+= \"10-K for yearly data, \"\n",
    "    elif \"10-Q\" in sec_form:\n",
    "        quarter = sec_form[-1]\n",
    "        sec_form_system_msg+= f\"{sec_form} for Q{quarter} data, \"\n",
    "sec_form_system_msg = sec_form_system_msg[:-2]\n",
    "\n",
    "earnings_call_system_message = \", \".join(earnings_call_quarter_vals)\n",
    "\n",
    "system_msg = f\"\"\"You are a helpful financial assistant and your task is to select the sec_filings or earnings_call or financial_books to best answer the question.\n",
    "You can use query_database_sec(question,sec_form) by passing question, relevant sec_form names like {sec_form_system_msg}\n",
    "or you can use query_database_earnings_call(question,quarter) by passing question and relevant quarter names with possible values {earnings_call_system_message}\n",
    "or you can use query_database_books(question) to get relevant documents from financial textbooks about valuation and investing philosophies. When you are ready to end the coversation, reply TERMINATE\"\"\""
   ]
  },
  {
   "cell_type": "code",
   "execution_count": 10,
   "id": "57c76647-d08b-461d-8e63-e9a3f5c9edd3",
   "metadata": {},
   "outputs": [],
   "source": [
    "from autogen import ConversableAgent\n",
    "import os\n",
    "\n",
    "\n",
    "config_list = autogen.config_list_from_json(\n",
    "    \"../OAI_CONFIG_LIST1\",\n",
    "    filter_dict={\n",
    "        \"model\": [\"gpt-4-0125-preview\"],\n",
    "    },\n",
    ")\n",
    "llm_config = {\n",
    "    \"config_list\": config_list,\n",
    "    \"timeout\": 120,\n",
    "    # \"temperature\": 0 # for debug convenience\n",
    "    \"temperature\": 0.5,\n",
    "}\n",
    "user_proxy = ConversableAgent(\n",
    "    name = \"Planner Admin\",\n",
    "    system_message=system_msg,\n",
    "    code_execution_config=False,\n",
    "    llm_config=llm_config,\n",
    "    human_input_mode=\"NEVER\",\n",
    "    is_termination_msg=lambda msg: \"TERMINATE\" in msg[\"content\"],\n",
    ")\n",
    "tool_proxy = ConversableAgent(\n",
    "  name=\"Tool Proxy\",\n",
    "  system_message=\"Analyze the response from user proxy and decide whether the suggested database is suitable \"\n",
    "  \". Answer in simple yes or no\",\n",
    "  llm_config=False,\n",
    "  # is_termination_msg=lambda msg: \"exit\" in msg.get(\"content\",\"\"),\n",
    "  default_auto_reply=\"Please select the right database.\",\n",
    "  human_input_mode=\"ALWAYS\",\n",
    "  )\n",
    "\n",
    "tools_dict = {\n",
    "        \"sec\":[query_database_sec,\"Tool to query SEC filings database\"],\n",
    "        \"earnings_call\": [query_database_earnings_call, \"Tool to query earnings call transcripts database\"],\n",
    "    }"
   ]
  },
  {
   "cell_type": "code",
   "execution_count": 11,
   "id": "8e7d6103-02e5-4751-87f1-e4d8b0acf532",
   "metadata": {},
   "outputs": [],
   "source": [
    "from autogen import register_function\n",
    "\n",
    "for tool_name,tool in tools_dict.items():\n",
    "  register_function(\n",
    "      tool[0],\n",
    "      caller=user_proxy,\n",
    "      executor=tool_proxy,\n",
    "      name = tool[0].__name__,\n",
    "      description=tool[1]\n",
    "  )"
   ]
  },
  {
   "cell_type": "code",
   "execution_count": 13,
   "id": "82728e4b-6b75-49ee-bced-2440c2848b96",
   "metadata": {},
   "outputs": [
    {
     "name": "stdout",
     "output_type": "stream",
     "text": [
      "\u001b[33mPlanner Admin\u001b[0m (to Tool Proxy):\n",
      "\n",
      "What is the strategy of Nvidia for artificial intelligence?\n",
      "\n",
      "--------------------------------------------------------------------------------\n"
     ]
    },
    {
     "name": "stdout",
     "output_type": "stream",
     "text": [
      "Provide feedback to Planner Admin. Press enter to skip and use auto-reply, or type 'exit' to end the conversation:  \n"
     ]
    },
    {
     "name": "stdout",
     "output_type": "stream",
     "text": [
      "\u001b[31m\n",
      ">>>>>>>> NO HUMAN INPUT RECEIVED.\u001b[0m\n",
      "\u001b[31m\n",
      ">>>>>>>> USING AUTO REPLY...\u001b[0m\n",
      "\u001b[33mTool Proxy\u001b[0m (to Planner Admin):\n",
      "\n",
      "Please select the right database.\n",
      "\n",
      "--------------------------------------------------------------------------------\n",
      "\u001b[33mPlanner Admin\u001b[0m (to Tool Proxy):\n",
      "\n",
      "\u001b[32m***** Suggested tool call (call_Vpand1auVseecRK4RhOqSO1F): query_database_unstructured_sec *****\u001b[0m\n",
      "Arguments: \n",
      "{\"question\": \"What is the strategy of Nvidia for artificial intelligence?\", \"sec_form_name\": \"10-K\"}\n",
      "\u001b[32m************************************************************************************************\u001b[0m\n",
      "\u001b[32m***** Suggested tool call (call_lvLhiFM4RggktJWRdhuR52le): query_database_earnings_call *****\u001b[0m\n",
      "Arguments: \n",
      "{\"question\": \"What is the strategy of Nvidia for artificial intelligence?\", \"quarter\": \"Q3\"}\n",
      "\u001b[32m*********************************************************************************************\u001b[0m\n",
      "\n",
      "--------------------------------------------------------------------------------\n"
     ]
    },
    {
     "name": "stdout",
     "output_type": "stream",
     "text": [
      "Provide feedback to Planner Admin. Press enter to skip and use auto-reply, or type 'exit' to end the conversation:  \n"
     ]
    },
    {
     "name": "stdout",
     "output_type": "stream",
     "text": [
      "\u001b[31m\n",
      ">>>>>>>> NO HUMAN INPUT RECEIVED.\u001b[0m\n",
      "\u001b[31m\n",
      ">>>>>>>> USING AUTO REPLY...\u001b[0m\n",
      "\u001b[35m\n",
      ">>>>>>>> EXECUTING FUNCTION query_database_unstructured_sec...\u001b[0m\n"
     ]
    },
    {
     "name": "stderr",
     "output_type": "stream",
     "text": [
      "ERROR:autogen.runtime_logging:[runtime logging] log_function_use: autogen logger is None\n"
     ]
    },
    {
     "name": "stdout",
     "output_type": "stream",
     "text": [
      "\u001b[35m\n",
      ">>>>>>>> EXECUTING FUNCTION query_database_earnings_call...\u001b[0m\n"
     ]
    },
    {
     "name": "stderr",
     "output_type": "stream",
     "text": [
      "ERROR:autogen.runtime_logging:[runtime logging] log_function_use: autogen logger is None\n"
     ]
    },
    {
     "name": "stdout",
     "output_type": "stream",
     "text": [
      "\u001b[33mTool Proxy\u001b[0m (to Planner Admin):\n",
      "\n",
      "\u001b[33mTool Proxy\u001b[0m (to Planner Admin):\n",
      "\n",
      "\u001b[32m***** Response from calling tool (call_Vpand1auVseecRK4RhOqSO1F) *****\u001b[0m\n",
      "FORM_SUMMARY: any of these key success criteria, our financial results may be harmed. We will offer enterprise customers NVIDIA AI cloud services directly and through our network of partners. Examples of these services include NVIDIA DGX Cloud, which is cloud-based infrastructure and software for training AI models, and customizable pretrained AI models. NVIDIA has partnered with leading cloud service providers to host these services in their data centers, and we entered into multi-year cloud service agreements in the second half of fiscal year 2023 to support these offerings and our research and development activities. NVIDIA AI cloud services may not be successful and will take time, resources and investment. We also offer or plan to offer standalone software solutions for AI including NVIDIA AI Enterprise, NVIDIA Omniverse, NVIDIA DRIVE for automotive, and several other software solutions. These new business models or strategies may not be successful and we may fail to sell any meaningful standalone software or of authorized and unissued shares. We provide tax-qualified defined contribution plans to eligible employees in the U.S. and certain other countries. Our contribution expense for fiscal years 2023, 2022, and 2021 was $227 million, $168 million, and $120 million, respectively. Our Chief Executive Officer, who is considered to be our chief operating decision maker, or CODM, reviews financial information presented on an operating segment basis for purposes of making decisions and assessing financial performance. The Compute & Networking segment includes our Data Center accelerated computing platform; networking; automotive AI Cockpit, autonomous driving development agreements, and autonomous vehicle solutions; electric vehicle computing platforms; Jetson for robotics and other embedded platforms; and NVIDIA AI Enterprise and other software; and CMP. The Graphics segment includes GeForce GPUs for gaming and PCs, the GeForce NOW game streaming service and related infrastructure, and solutions for gaming consolidated financial reporting phase of the implementation, which included updating our internal control over financial reporting. We will continue to evaluate each quarter whether there are changes that materially affect our internal control over financial reporting. Our management, including our Chief Executive Officer and Chief Financial Officer, does not expect that our disclosure controls and procedures or our internal controls, will prevent all error and all fraud. A control system, no matter how well conceived and operated, can provide only reasonable, not absolute, assurance that the objectives of the control system are met. Further, the design of a control system must reflect the fact that there are resource constraints, and the benefits of controls must be considered relative to their costs. Because of the inherent limitations in all control systems, no evaluation of controls can provide absolute assurance that all control issues and instances of fraud, if any, within NVIDIA have been detected. In evaluating NVIDIA, the following risk factors should be considered in addition to the other information in this Annual Report on Form 10-K. Purchasing or owning NVIDIA common stock involves investment risks including, but not limited to, the risks described below. Any one of the following risks could harm our business, financial condition, results of operations or reputation, which could cause our stock price to decline, and you may lose all or a part of your investment. Additional risks, trends and uncertainties not presently known to us or that we currently believe are immaterial may also harm our business, financial condition, results of operations or reputation. Failure to meet the evolving needs of our industry and markets may adversely impact our financial results. Competition in our current and target markets could cause us to lose market share and revenue. Failure to estimate customer demand properly has led and could lead to mismatches between supply and demand. Dependency on third-party suppliers to fiscal year 2021 can be found under Item 7 in our Annual Report on Form 10-K for the fiscal year ended January 30, 2022, filed with the SEC on March 18, 2022, which is available free of charge on the SEC’s website at http://www.sec.gov and at our investor relations website, http://investor.nvidia.com. The following table sets forth, for the periods indicated, certain items in our Consolidated Statements of Income expressed as a percentage of revenue. The year-on-year increase was led by growth from hyperscale customers and also reflects purchases made by several CSP partners to support multi-year cloud service agreements for our new NVIDIA AI cloud service offerings and our research and development activities. The increase was also related to the growth in Automotive. CMP contributed an insignificant amount in fiscal year 2023 compared to $550 million in fiscal year 2022. The year-on-year decrease primarily reflects lower sell-in to partners to help reduce channel inventory levels as global macro-economic\n",
      "\n",
      "\n",
      "\u001b[32m**********************************************************************\u001b[0m\n",
      "\n",
      "--------------------------------------------------------------------------------\n",
      "\u001b[33mTool Proxy\u001b[0m (to Planner Admin):\n",
      "\n",
      "\u001b[32m***** Response from calling tool (call_lvLhiFM4RggktJWRdhuR52le) *****\u001b[0m\n",
      "Jen-Hsun Huang: These computing platforms run NVIDIA AI and NVIDIA Omniverse, software libraries and engines that help the companies build and deploy AI to products and services. we this pioneering work and accelerated computing is more vital than ever. Limited by business, general purpose commuting has slowed to a crawl just as AI demands more computing. Scaling through general purchase computing alone is no longer viable, both from a cost or power standpoint. Accelerated computing is the path forward. We look forward to updating you on our progress next quarter. Thanks, everyone. We are quickly adapting to the macro environment. Correcting inventory levels, offering alternative products to data center customers in China and keeping our opex flat for the next few quarters. Our new platforms are off to a great start and formed the foundation for our resumed growth. MRTX is reinventing 3D graphics with ray tracing and AI. The launch of [Inaudible] is phenomenal. Gamers waited in long lines around the world, 4090 stocks sold out quickly. Hopper, with its revolutionary transformer engine is just in time to meet the surging demand for recommender systems, large language models and generative AI. NVIDIA networking is synonymous with the highest data center throughput and enjoying record results. Oren is the world's first computing platform designed for AI-powered autonomous vehicles and robotics and putting automotive on the road to be our next multibillion-dollar platform. These computing platforms run NVIDIA AI and NVIDIA Omniverse, software libraries and engines that Yes. Thanks, CJ. We're making excellent progress in NVIDIA AI enterprise. In fact, you saw probably that we made several announcements this quarter associated with clouds. You know that NVIDIA has a rich ecosystem. And over the years, our rich ecosystem and our software stack has been integrated into developers and start-ups of all kinds, but more so -- more than ever, we're at the tipping point of clouds, and that's fantastic. Because if we could get NVIDIA's architecture and our full stack into every single cloud, we could reach more customers more quickly. And this quarter, we announced several initiatives, one has several partnerships and collaborations, one that we announced today, which has to do with Microsoft and our partnership there. It has everything to do with scaling up AI because we have so many start-ups clamoring for large installations of our GPU so that they could do large language model training and building their start-ups and scale out of AI to enterprise and all of the world's Internet\n",
      "\n",
      "Colette Kress: 500 system featuring our H-100 GPUs. At GTC, we announced the NVIDIA Omniverse Computing System, or OVS, reference designs featuring the new L4 GPU based on the ADA Lovelace architecture. These systems are designed to build and operate 3D virtual world using NVIDIA Omniverse enterprise. NVIDIA OBX systems will be available from Inspur, Lenovo and Super Micro by early 2023. We Lockheed Martin and Jaguar Land Rover will be among the first customers to receive OVS systems. We are further expanding our AI software and services offerings with NVIDIA and Bio Nemo large language model services, which are both entering early access this month. These enable developers to easily adopt large language models and deploy customized AI applications for content generation, tech summarization, chatbox, co-development, protein structure and biomolecular property predictions. Moving to gaming. Revenue of $1.57 billion was down 23% sequentially and down 51% from a year ago, reflecting lower sell-in to partners to help align momentum. We achieved an important milestone this quarter with VMware. And whose leading server virtualization platform, vSphere, has been rearchitected over the last two years to run on DPUs and now supports our BlueField DPUs. Our joint enterprise AI platform is available first on Dell PowerEdge servers. The BlueField DPU design win pipeline is growing and the number of infrastructure softer partners is expanding, including Arista, Check Point, Juniper, [Inaudible] Networks and Red Hot. The latest top 500 list of supercomputers released this week at Supercomputing '22 and has the highest ever number of NVIDIA-powered systems, including 72% of the total and 90% of new systems on the list. Moreover, NVIDIA powers 23 of the top 30 of the Green 500 list, demonstrating the energy efficiency of accelerated computing. The No. 1 most energy-efficient system is the Flat Iron Institute Henry, which is the first top 500 system featuring our H-100 GPUs. At GTC, we announced the NVIDIA Omniverse Computing System, or\n",
      "\n",
      "\n",
      "\u001b[32m**********************************************************************\u001b[0m\n",
      "\n",
      "--------------------------------------------------------------------------------\n",
      "\u001b[33mPlanner Admin\u001b[0m (to Tool Proxy):\n",
      "\n",
      "Nvidia's strategy for artificial intelligence is multifaceted and includes the following key components:\n",
      "\n",
      "1. **NVIDIA AI Cloud Services**: Nvidia plans to offer enterprise customers NVIDIA AI cloud services both directly and through a network of partners. Services include NVIDIA DGX Cloud for training AI models and customizable pretrained AI models. Nvidia has partnered with leading cloud service providers to host these services, entering into multi-year cloud service agreements to support these offerings and its research and development activities. This strategy, however, is acknowledged to require significant time, resources, and investment.\n",
      "\n",
      "2. **Standalone Software Solutions for AI**: Nvidia is also focusing on offering standalone software solutions for AI, including NVIDIA AI Enterprise, NVIDIA Omniverse, NVIDIA DRIVE for automotive, among several other software solutions. These efforts represent new business models and strategies for Nvidia.\n",
      "\n",
      "3. **Accelerated Computing**: Jen-Hsun Huang, Nvidia's CEO, emphasized the importance of accelerated computing as the path forward, given the limitations of general-purpose computing to meet the increasing demands of AI. Nvidia is adapting to the macro environment by correcting inventory levels, offering alternative products to data center customers in China, and keeping operational expenses flat. \n",
      "\n",
      "4. **New Platforms and Technologies**: Nvidia is launching new platforms and technologies such as MRTX for 3D graphics with ray tracing and AI, Hopper with its transformer engine for recommender systems, large language models, and generative AI, NVIDIA networking for data center throughput, and Oren for AI-powered autonomous vehicles and robotics. These platforms are designed to form the foundation for Nvidia's growth in AI and other areas.\n",
      "\n",
      "5. **Partnerships and Collaborations**: Nvidia is making progress in AI enterprise with several partnerships and collaborations, notably with Microsoft to scale up AI. The company aims to integrate its architecture and full stack into every cloud to reach more customers quickly.\n",
      "\n",
      "6. **AI Software and Services Offerings Expansion**: Nvidia is expanding its AI software and services offerings, including NVIDIA and Bio Nemo large language model services, and the NVIDIA Omniverse Computing System (OVS) for building and operating 3D virtual worlds.\n",
      "\n",
      "7. **Focus on Energy Efficiency and Supercomputing**: Nvidia is also focusing on the energy efficiency of accelerated computing, as evidenced by its presence in the top 500 list of supercomputers and the Green 500 list.\n",
      "\n",
      "This comprehensive strategy showcases Nvidia's commitment to leading in the AI space through cloud services, software solutions, accelerated computing, new technologies, partnerships, and a focus on efficiency and supercomputing capabilities.\n",
      "\n",
      "--------------------------------------------------------------------------------\n"
     ]
    },
    {
     "name": "stdout",
     "output_type": "stream",
     "text": [
      "Provide feedback to Planner Admin. Press enter to skip and use auto-reply, or type 'exit' to end the conversation:  \n"
     ]
    },
    {
     "name": "stdout",
     "output_type": "stream",
     "text": [
      "\u001b[31m\n",
      ">>>>>>>> NO HUMAN INPUT RECEIVED.\u001b[0m\n",
      "\u001b[31m\n",
      ">>>>>>>> USING AUTO REPLY...\u001b[0m\n",
      "\u001b[33mTool Proxy\u001b[0m (to Planner Admin):\n",
      "\n",
      "Please select the right database.\n",
      "\n",
      "--------------------------------------------------------------------------------\n",
      "\u001b[33mPlanner Admin\u001b[0m (to Tool Proxy):\n",
      "\n",
      "TERMINATE\n",
      "\n",
      "--------------------------------------------------------------------------------\n"
     ]
    },
    {
     "name": "stdout",
     "output_type": "stream",
     "text": [
      "Provide feedback to Planner Admin. Press enter to skip and use auto-reply, or type 'exit' to end the conversation:  \n"
     ]
    },
    {
     "name": "stdout",
     "output_type": "stream",
     "text": [
      "\u001b[31m\n",
      ">>>>>>>> NO HUMAN INPUT RECEIVED.\u001b[0m\n"
     ]
    }
   ],
   "source": [
    "input_text = \"What is the strategy of Nvidia for artificial intelligence?\"\n",
    "#input_text = \"What is the strategy of Google for artificial intelligence?\"\n",
    "chat_result = user_proxy.initiate_chat(\n",
    "        recipient=tool_proxy,\n",
    "        message=input_text,\n",
    "        max_turns=5\n",
    "    )"
   ]
  },
  {
   "cell_type": "code",
   "execution_count": 21,
   "id": "0519715b-4337-4583-95ff-682c5a098874",
   "metadata": {},
   "outputs": [
    {
     "name": "stdout",
     "output_type": "stream",
     "text": [
      "\u001b[33mPlanner Admin\u001b[0m (to Tool Proxy):\n",
      "\n",
      "What was forward estimates of Google for the year 2023?\n",
      "\n",
      "--------------------------------------------------------------------------------\n"
     ]
    },
    {
     "name": "stdout",
     "output_type": "stream",
     "text": [
      "Provide feedback to Planner Admin. Press enter to skip and use auto-reply, or type 'exit' to end the conversation:  \n"
     ]
    },
    {
     "name": "stdout",
     "output_type": "stream",
     "text": [
      "\u001b[31m\n",
      ">>>>>>>> NO HUMAN INPUT RECEIVED.\u001b[0m\n",
      "\u001b[31m\n",
      ">>>>>>>> USING AUTO REPLY...\u001b[0m\n",
      "\u001b[33mTool Proxy\u001b[0m (to Planner Admin):\n",
      "\n",
      "Please select the right database.\n",
      "\n",
      "--------------------------------------------------------------------------------\n",
      "\u001b[33mPlanner Admin\u001b[0m (to Tool Proxy):\n",
      "\n",
      "\u001b[32m***** Suggested tool call (call_L8egUxMdh0EVYQLMDPdEFFg6): query_database_unstructured_sec *****\u001b[0m\n",
      "Arguments: \n",
      "{\"question\":\"What was forward estimates of Google for the year 2023?\",\"sec_form_name\":\"10-K\"}\n",
      "\u001b[32m************************************************************************************************\u001b[0m\n",
      "\n",
      "--------------------------------------------------------------------------------\n"
     ]
    },
    {
     "name": "stdout",
     "output_type": "stream",
     "text": [
      "Provide feedback to Planner Admin. Press enter to skip and use auto-reply, or type 'exit' to end the conversation:  \n"
     ]
    },
    {
     "name": "stdout",
     "output_type": "stream",
     "text": [
      "\u001b[31m\n",
      ">>>>>>>> NO HUMAN INPUT RECEIVED.\u001b[0m\n",
      "\u001b[31m\n",
      ">>>>>>>> USING AUTO REPLY...\u001b[0m\n",
      "\u001b[35m\n",
      ">>>>>>>> EXECUTING FUNCTION query_database_unstructured_sec...\u001b[0m\n"
     ]
    },
    {
     "name": "stderr",
     "output_type": "stream",
     "text": [
      "ERROR:autogen.runtime_logging:[runtime logging] log_function_use: autogen logger is None\n"
     ]
    },
    {
     "name": "stdout",
     "output_type": "stream",
     "text": [
      "\u001b[33mTool Proxy\u001b[0m (to Planner Admin):\n",
      "\n",
      "\u001b[33mTool Proxy\u001b[0m (to Planner Admin):\n",
      "\n",
      "\u001b[32m***** Response from calling tool (call_L8egUxMdh0EVYQLMDPdEFFg6) *****\u001b[0m\n",
      "FORM_SUMMARY: 2023 results compared to 2022 results. Discussion of 2022 results compared to 2021 results to the extent not included in this report can be found in Item 7 of our 2022 Annual Report on Form 10-K. Alphabet is a collection of businesses — the largest of which is Google. We report Google in two segments, Google Services and Google Cloud; we also report all non-Google businesses collectively as Other Bets. For additional information on our segments, see Part I, Item 1 Business and of the Notes to Consolidated Financial Statements included in Item 8 of this Annual Report on Form 10-K. The following long-term trends have contributed to the results of our consolidated operations, and we anticipate that they will continue to affect our future results: Users' behaviors and advertising continue to shift online as the digital economy evolves. The continuing evolution of the online world has contributed to the growth of our business and our revenues since inception. We expect that this evolution will continue to benefit ended December 31, 2023. As of December 31, 2023, we had 182,502 employees. The following table presents revenues by type (in millions): Hedging gains (losses) Google Search & other revenues increased $12.6 billion from 2022 to 2023. The overall growth was driven by interrelated factors including increases in search queries resulting from growth in user adoption and usage on mobile devices; growth in advertiser spending; and improvements we have made in ad formats and delivery. YouTube ads revenues increased $2.3 billion from 2022 to 2023. The growth was driven by our brand and direct response advertising products, both of which benefited from increased spending by our advertisers. Google Network revenues decreased $1.5 billion from 2022 to 2023, primarily driven by a decrease in Google Ad Manager and AdSense revenues. The following table presents changes in monetization metrics for Google Search & other revenues (paid clicks and cost-per-click) and Google Network revenues (impressions and in Item 8 of this Annual Report on Form 10-K. Operating cash flow was $101.7 billion for the year ended December 31, 2023. Capital expenditures, which primarily reflected investments in technical infrastructure, were $32.3 billion for the year ended December 31, 2023. As of December 31, 2023, we had 182,502 employees. The following table presents revenues by type (in millions): Hedging gains (losses) Google Search & other revenues increased $12.6 billion from 2022 to 2023. The overall growth was driven by interrelated factors including increases in search queries resulting from growth in user adoption and usage on mobile devices; growth in advertiser spending; and improvements we have made in ad formats and delivery. YouTube ads revenues increased $2.3 billion from 2022 to 2023. The growth was driven by our brand and direct response advertising products, both of which benefited from increased spending by our advertisers. Google Network revenues decreased $1.5 billion from 2022 to 2023, primarily driven by a Please read the following discussion and analysis of our financial condition and results of operations together with “Note about Forward-Looking Statements,” Part I, Item 1 \"Business,\" Part I, Item 1A \"Risk Factors,\" and our consolidated financial statements and related notes included under Item 8 of this Annual Report on Form 10-K. The following section generally discusses 2023 results compared to 2022 results. Discussion of 2022 results compared to 2021 results to the extent not included in this report can be found in Item 7 of our 2022 Annual Report on Form 10-K. Alphabet is a collection of businesses — the largest of which is Google. We report Google in two segments, Google Services and Google Cloud; we also report all non-Google businesses collectively as Other Bets. For additional information on our segments, see Part I, Item 1 Business and of the Notes to Consolidated Financial Statements included in Item 8 of this Annual Report on Form 10-K. The following long-term trends have contributed to the Please read the following discussion and analysis of our financial condition and results of operations together with “Note about Forward-Looking Statements,” Part I, Item 1 \"Business,\" Part I, Item 1A \"Risk Factors,\" and our consolidated financial statements and related notes included under Item 8 of this Annual Report on Form 10-K. The following section generally discusses 2023 results compared to 2022 results. Discussion of 2022 results compared to 2021 results to the extent not included in this report can be found in Item 7 of our 2022 Annual Report on Form 10-K. Alphabet is a collection of businesses — the largest of which is Google. We report Google in two segments, Google Services and Google Cloud; we also report all non-Google businesses collectively as Other Bets. For additional information on our segments, see Part I, Item 1 Business and of the Notes to Consolidated Financial Statements included in Item 8 of this Annual Report on Form 10-K. The following long-term trends have contributed to the\n",
      "\n",
      "\n",
      "\u001b[32m**********************************************************************\u001b[0m\n",
      "\n",
      "--------------------------------------------------------------------------------\n",
      "\u001b[33mPlanner Admin\u001b[0m (to Tool Proxy):\n",
      "\n",
      "The forward estimates for Google in the year 2023, as detailed in their 10-K filing, highlight several key financial and operational trends:\n",
      "\n",
      "- **Revenue Growth:** Google Search & other revenues increased by $12.6 billion from 2022 to 2023, driven by factors such as growth in user adoption and usage on mobile devices, increased advertiser spending, and improvements in ad formats and delivery. YouTube ads revenues also saw a significant increase of $2.3 billion from 2022 to 2023, attributed to increased spending by advertisers on both brand and direct response advertising products. However, Google Network revenues decreased by $1.5 billion from 2022 to 2023, primarily due to a decrease in Google Ad Manager and AdSense revenues.\n",
      "\n",
      "- **Operating Cash Flow and Capital Expenditures:** The operating cash flow for the year ended December 31, 2023, was reported at $101.7 billion. Capital expenditures, mainly reflecting investments in technical infrastructure, amounted to $32.3 billion for the same period.\n",
      "\n",
      "- **Employee Count:** As of December 31, 2023, Google had 182,502 employees.\n",
      "\n",
      "These results reflect the long-term trends that have contributed to the growth of Google's business, such as the shift of users' behaviors and advertising towards online platforms. The company anticipates these trends to continue affecting its future results, benefiting from the ongoing evolution of the digital economy.\n",
      "\n",
      "--------------------------------------------------------------------------------\n"
     ]
    },
    {
     "name": "stdout",
     "output_type": "stream",
     "text": [
      "Provide feedback to Planner Admin. Press enter to skip and use auto-reply, or type 'exit' to end the conversation:  \n"
     ]
    },
    {
     "name": "stdout",
     "output_type": "stream",
     "text": [
      "\u001b[31m\n",
      ">>>>>>>> NO HUMAN INPUT RECEIVED.\u001b[0m\n",
      "\u001b[31m\n",
      ">>>>>>>> USING AUTO REPLY...\u001b[0m\n",
      "\u001b[33mTool Proxy\u001b[0m (to Planner Admin):\n",
      "\n",
      "Please select the right database.\n",
      "\n",
      "--------------------------------------------------------------------------------\n",
      "\u001b[33mPlanner Admin\u001b[0m (to Tool Proxy):\n",
      "\n",
      "The right database to query for forward estimates of Google for the year 2023 would be the SEC filings, specifically the 10-K form, which I have already queried.\n",
      "\n",
      "--------------------------------------------------------------------------------\n"
     ]
    },
    {
     "name": "stdout",
     "output_type": "stream",
     "text": [
      "Provide feedback to Planner Admin. Press enter to skip and use auto-reply, or type 'exit' to end the conversation:  \n"
     ]
    },
    {
     "name": "stdout",
     "output_type": "stream",
     "text": [
      "\u001b[31m\n",
      ">>>>>>>> NO HUMAN INPUT RECEIVED.\u001b[0m\n",
      "\u001b[31m\n",
      ">>>>>>>> USING AUTO REPLY...\u001b[0m\n",
      "\u001b[33mTool Proxy\u001b[0m (to Planner Admin):\n",
      "\n",
      "Please select the right database.\n",
      "\n",
      "--------------------------------------------------------------------------------\n",
      "\u001b[33mPlanner Admin\u001b[0m (to Tool Proxy):\n",
      "\n",
      "TERMINATE\n",
      "\n",
      "--------------------------------------------------------------------------------\n"
     ]
    },
    {
     "name": "stdout",
     "output_type": "stream",
     "text": [
      "Provide feedback to Planner Admin. Press enter to skip and use auto-reply, or type 'exit' to end the conversation:  \n"
     ]
    },
    {
     "name": "stdout",
     "output_type": "stream",
     "text": [
      "\u001b[31m\n",
      ">>>>>>>> NO HUMAN INPUT RECEIVED.\u001b[0m\n"
     ]
    }
   ],
   "source": [
    "input_text = \"What was forward estimates of Google for the year 2023?\"\n",
    "chat_result = user_proxy.initiate_chat(\n",
    "        recipient=tool_proxy,\n",
    "        message=input_text,\n",
    "        max_turns=10\n",
    "    )"
   ]
  },
  {
   "cell_type": "code",
   "execution_count": 13,
   "id": "ca49d019-6daa-4779-b618-f3ab78bf987d",
   "metadata": {},
   "outputs": [
    {
     "name": "stdout",
     "output_type": "stream",
     "text": [
      "\u001b[33mPlanner Admin\u001b[0m (to Tool Proxy):\n",
      "\n",
      "What are the risk factors that Nvidia faced this year?\n",
      "\n",
      "--------------------------------------------------------------------------------\n"
     ]
    },
    {
     "name": "stdout",
     "output_type": "stream",
     "text": [
      "Provide feedback to Planner Admin. Press enter to skip and use auto-reply, or type 'exit' to end the conversation:  \n"
     ]
    },
    {
     "name": "stdout",
     "output_type": "stream",
     "text": [
      "\u001b[31m\n",
      ">>>>>>>> NO HUMAN INPUT RECEIVED.\u001b[0m\n",
      "\u001b[31m\n",
      ">>>>>>>> USING AUTO REPLY...\u001b[0m\n",
      "\u001b[33mTool Proxy\u001b[0m (to Planner Admin):\n",
      "\n",
      "Please select the right database.\n",
      "\n",
      "--------------------------------------------------------------------------------\n",
      "\u001b[33mPlanner Admin\u001b[0m (to Tool Proxy):\n",
      "\n",
      "\u001b[32m***** Suggested tool call (call_ZOWSOgPFUQTIuX4aHLbMTFST): query_database_unstructured_sec *****\u001b[0m\n",
      "Arguments: \n",
      "{\"question\":\"What are the risk factors that Nvidia faced this year?\",\"sec_form_name\":\"10-K\"}\n",
      "\u001b[32m************************************************************************************************\u001b[0m\n",
      "\n",
      "--------------------------------------------------------------------------------\n"
     ]
    },
    {
     "name": "stdout",
     "output_type": "stream",
     "text": [
      "Provide feedback to Planner Admin. Press enter to skip and use auto-reply, or type 'exit' to end the conversation:  \n"
     ]
    },
    {
     "name": "stdout",
     "output_type": "stream",
     "text": [
      "\u001b[31m\n",
      ">>>>>>>> NO HUMAN INPUT RECEIVED.\u001b[0m\n",
      "\u001b[31m\n",
      ">>>>>>>> USING AUTO REPLY...\u001b[0m\n",
      "\u001b[35m\n",
      ">>>>>>>> EXECUTING FUNCTION query_database_unstructured_sec...\u001b[0m\n"
     ]
    },
    {
     "name": "stderr",
     "output_type": "stream",
     "text": [
      "ERROR:autogen.runtime_logging:[runtime logging] log_function_use: autogen logger is None\n"
     ]
    },
    {
     "name": "stdout",
     "output_type": "stream",
     "text": [
      "\u001b[33mTool Proxy\u001b[0m (to Planner Admin):\n",
      "\n",
      "\u001b[33mTool Proxy\u001b[0m (to Planner Admin):\n",
      "\n",
      "\u001b[32m***** Response from calling tool (call_ZOWSOgPFUQTIuX4aHLbMTFST) *****\u001b[0m\n",
      "FORM_SUMMARY: In evaluating NVIDIA, the following risk factors should be considered in addition to the other information in this Annual Report on Form 10-K. Purchasing or owning NVIDIA common stock involves investment risks including, but not limited to, the risks described below. Any one of the following risks could harm our business, financial condition, results of operations or reputation, which could cause our stock price to decline, and you may lose all or a part of your investment. Additional risks, trends and uncertainties not presently known to us or that we currently believe are immaterial may also harm our business, financial condition, results of operations or reputation. Failure to meet the evolving needs of our industry and markets may adversely impact our financial results. Competition in our current and target markets could cause us to lose market share and revenue. Failure to estimate customer demand properly has led and could lead to mismatches between supply and demand. Dependency on third-party suppliers In evaluating NVIDIA, the following risk factors should be considered in addition to the other information in this Annual Report on Form 10-K. Purchasing or owning NVIDIA common stock involves investment risks including, but not limited to, the risks described below. Any one of the following risks could harm our business, financial condition, results of operations or reputation, which could cause our stock price to decline, and you may lose all or a part of your investment. Additional risks, trends and uncertainties not presently known to us or that we currently believe are immaterial may also harm our business, financial condition, results of operations or reputation. Failure to meet the evolving needs of our industry and markets may adversely impact our financial results. Competition in our current and target markets could cause us to lose market share and revenue. Failure to estimate customer demand properly has led and could lead to mismatches between supply and demand. Dependency on third-party suppliers In evaluating NVIDIA, the following risk factors should be considered in addition to the other information in this Annual Report on Form 10-K. Purchasing or owning NVIDIA common stock involves investment risks including, but not limited to, the risks described below. Any one of the following risks could harm our business, financial condition, results of operations or reputation, which could cause our stock price to decline, and you may lose all or a part of your investment. Additional risks, trends and uncertainties not presently known to us or that we currently believe are immaterial may also harm our business, financial condition, results of operations or reputation. Failure to meet the evolving needs of our industry and markets may adversely impact our financial results. Competition in our current and target markets could cause us to lose market share and revenue. Failure to estimate customer demand properly has led and could lead to mismatches between supply and demand. Dependency on third-party suppliers In evaluating NVIDIA, the following risk factors should be considered in addition to the other information in this Annual Report on Form 10-K. Purchasing or owning NVIDIA common stock involves investment risks including, but not limited to, the risks described below. Any one of the following risks could harm our business, financial condition, results of operations or reputation, which could cause our stock price to decline, and you may lose all or a part of your investment. Additional risks, trends and uncertainties not presently known to us or that we currently believe are immaterial may also harm our business, financial condition, results of operations or reputation. Failure to meet the evolving needs of our industry and markets may adversely impact our financial results. Competition in our current and target markets could cause us to lose market share and revenue. Failure to estimate customer demand properly has led and could lead to mismatches between supply and demand. Dependency on third-party suppliers In evaluating NVIDIA, the following risk factors should be considered in addition to the other information in this Annual Report on Form 10-K. Purchasing or owning NVIDIA common stock involves investment risks including, but not limited to, the risks described below. Any one of the following risks could harm our business, financial condition, results of operations or reputation, which could cause our stock price to decline, and you may lose all or a part of your investment. Additional risks, trends and uncertainties not presently known to us or that we currently believe are immaterial may also harm our business, financial condition, results of operations or reputation. Failure to meet the evolving needs of our industry and markets may adversely impact our financial results. Competition in our current and target markets could cause us to lose market share and revenue. Failure to estimate customer demand properly has led and could lead to mismatches between supply and demand. Dependency on third-party suppliers\n",
      "\n",
      "\n",
      "\u001b[32m**********************************************************************\u001b[0m\n",
      "\n",
      "--------------------------------------------------------------------------------\n",
      "\u001b[33mPlanner Admin\u001b[0m (to Tool Proxy):\n",
      "\n",
      "Nvidia faced several risk factors this year, as outlined in their Annual Report on Form 10-K. These risk factors, if not addressed, could harm Nvidia's business, financial condition, results of operations, or reputation, potentially leading to a decline in their stock price. The key risk factors include:\n",
      "\n",
      "1. **Failure to Meet Evolving Industry and Market Needs:** Nvidia must continuously adapt to the changing needs of the markets it serves. Failure to do so could adversely impact its financial results.\n",
      "\n",
      "2. **Competition:** The company faces intense competition in its current and target markets. Losing market share and revenue to competitors could be detrimental to its business.\n",
      "\n",
      "3. **Estimation of Customer Demand:** Properly estimating customer demand is crucial for Nvidia. Past mismatches between supply and demand have occurred, and future failures in this area could lead to similar issues.\n",
      "\n",
      "4. **Dependency on Third-Party Suppliers:** Nvidia relies on third-party suppliers for its operations. This dependency poses a risk if these suppliers fail to meet Nvidia's needs or expectations.\n",
      "\n",
      "These risks are in addition to other potential risks, trends, and uncertainties not currently known or deemed immaterial, which may also negatively affect the company's business and financial outcomes.\n",
      "\n",
      "--------------------------------------------------------------------------------\n"
     ]
    },
    {
     "name": "stdout",
     "output_type": "stream",
     "text": [
      "Provide feedback to Planner Admin. Press enter to skip and use auto-reply, or type 'exit' to end the conversation:  \n"
     ]
    },
    {
     "name": "stdout",
     "output_type": "stream",
     "text": [
      "\u001b[31m\n",
      ">>>>>>>> NO HUMAN INPUT RECEIVED.\u001b[0m\n",
      "\u001b[31m\n",
      ">>>>>>>> USING AUTO REPLY...\u001b[0m\n",
      "\u001b[33mTool Proxy\u001b[0m (to Planner Admin):\n",
      "\n",
      "Please select the right database.\n",
      "\n",
      "--------------------------------------------------------------------------------\n",
      "\u001b[33mPlanner Admin\u001b[0m (to Tool Proxy):\n",
      "\n",
      "TERMINATE\n",
      "\n",
      "--------------------------------------------------------------------------------\n"
     ]
    },
    {
     "name": "stdout",
     "output_type": "stream",
     "text": [
      "Provide feedback to Planner Admin. Press enter to skip and use auto-reply, or type 'exit' to end the conversation:  \n"
     ]
    },
    {
     "name": "stdout",
     "output_type": "stream",
     "text": [
      "\u001b[31m\n",
      ">>>>>>>> NO HUMAN INPUT RECEIVED.\u001b[0m\n"
     ]
    }
   ],
   "source": [
    "input_text = \"What are the risk factors that Nvidia faced this year?\"\n",
    "chat_result = user_proxy.initiate_chat(\n",
    "        recipient=tool_proxy,\n",
    "        message=input_text,\n",
    "        max_turns=10\n",
    "    )"
   ]
  },
  {
   "cell_type": "code",
   "execution_count": null,
   "id": "36f5f76a-b14f-4c58-8ab7-4c7d7537b325",
   "metadata": {},
   "outputs": [],
   "source": []
  }
 ],
 "metadata": {
  "kernelspec": {
   "display_name": "Python 3 (ipykernel)",
   "language": "python",
   "name": "python3"
  },
  "language_info": {
   "codemirror_mode": {
    "name": "ipython",
    "version": 3
   },
   "file_extension": ".py",
   "mimetype": "text/x-python",
   "name": "python",
   "nbconvert_exporter": "python",
   "pygments_lexer": "ipython3",
   "version": "3.10.14"
  }
 },
 "nbformat": 4,
 "nbformat_minor": 5
}
