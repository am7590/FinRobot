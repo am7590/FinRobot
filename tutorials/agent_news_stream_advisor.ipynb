{
 "cells": [
  {
   "cell_type": "markdown",
   "metadata": {},
   "source": [
    "# News Streaming"
   ]
  },
  {
   "cell_type": "markdown",
   "metadata": {},
   "source": [
    "In this demo, we set up an agent to emulate the behavior of model in the fingpt-forecaster project with AutoGen, which takes a company's ticker symbol, recent basic financials and market news as input and predict its stock movements.\n",
    "\n",
    "For detail of the original project, check out  [FinGPT-Forecaster](https://github.com/AI4Finance-Foundation/FinGPT/tree/master/fingpt/FinGPT_Forecaster)!  🔥[Demo](https://huggingface.co/spaces/FinGPT/FinGPT-Forecaster), [Medium Blog](https://medium.datadriveninvestor.com/introducing-fingpt-forecaster-the-future-of-robo-advisory-services-50add34e3d3c) & [Model](https://huggingface.co/FinGPT/fingpt-forecaster_dow30_llama2-7b_lora) on Huggingface🤗!"
   ]
  },
  {
   "cell_type": "code",
   "execution_count": null,
   "metadata": {},
   "outputs": [],
   "source": [
    "import autogen\n",
    "from autogen.cache import Cache\n",
    "\n",
    "from finrobot.utils import get_current_date, register_keys_from_json\n",
    "from finrobot.data_source import FinnHubUtils, YFinanceUtils"
   ]
  },
  {
   "cell_type": "markdown",
   "metadata": {},
   "source": [
    "After importing all the necessary packages and functions, we first instantiate a market analysis assistant and a user proxy using the agent classes defined by AutoGen. We also need the config for OpenAI & Finnhub here. \n",
    "- for openai configuration, rename OAI_CONFIG_LIST_sample to OAI_CONFIG_LIST and replace the api keys\n",
    "- for finnhub configuration, rename config_api_keys_sample to config_api_keys and replace the api keys"
   ]
  },
  {
   "cell_type": "code",
   "execution_count": null,
   "metadata": {},
   "outputs": [],
   "source": [
    "# Read OpenAI API keys from a JSON file\n",
    "config_list = autogen.config_list_from_json(\n",
    "    \"../OAI_CONFIG_LIST\",\n",
    "    filter_dict={\n",
    "        \"model\": [\"gpt-4-0125-preview\"]\n",
    "    },\n",
    ")\n",
    "llm_config = {\n",
    "    \"config_list\": config_list,\n",
    "    \"timeout\": 120,\n",
    "    \"temperature\": 0\n",
    "}\n",
    "\n",
    "# Register FINNHUB API keys\n",
    "register_keys_from_json(\"../config_api_keys\")"
   ]
  },
  {
   "cell_type": "code",
   "execution_count": null,
   "metadata": {},
   "outputs": [],
   "source": [
    "analyst = autogen.AssistantAgent(\n",
    "    name=\"Market_Analyst\",\n",
    "    system_message=\"As a Market Analyst, one must possess strong analytical and problem-solving abilities, collect necessary financial information and aggregate them based on client's requirement.\"\n",
    "        \"For coding tasks, only use the functions you have been provided with. Reply TERMINATE when the task is done.\",\n",
    "    llm_config=llm_config,\n",
    ")\n",
    "\n",
    "user_proxy = autogen.UserProxyAgent(\n",
    "    name=\"User_Proxy\",\n",
    "    is_termination_msg=lambda x: x.get(\"content\", \"\") and x.get(\"content\", \"\").endswith(\"TERMINATE\"),\n",
    "    human_input_mode=\"NEVER\",\n",
    "    max_consecutive_auto_reply=10,\n",
    "    code_execution_config={\n",
    "        \"work_dir\": \"coding\",\n",
    "        \"use_docker\": False,\n",
    "    },  # Please set use_docker=True if docker is available to run the generated code. Using docker is safer than running the generated code directly.\n",
    ")"
   ]
  },
  {
   "cell_type": "markdown",
   "metadata": {},
   "source": [
    "Then we register our predefined functions with the userproxy.\n",
    "\n",
    "Following our implementation with the fingpt-forecaster, we combined news/financials calls to the Finnhub API and stock data calls to the YFinance API."
   ]
  },
  {
   "cell_type": "code",
   "execution_count": null,
   "metadata": {},
   "outputs": [],
   "source": [
    "from finrobot.toolkit import register_toolkit\n",
    "\n",
    "tools = [\n",
    "    {\n",
    "        \"function\": FinnHubUtils.get_company_profile,\n",
    "        \"name\": \"get_company_profile\", \n",
    "        \"description\": \"get a company's profile information\"\n",
    "    },\n",
    "    {\n",
    "        \"function\": FinnHubUtils.get_company_news,\n",
    "        \"name\": \"get_company_news\", \n",
    "        \"description\": \"retrieve market news related to designated company\"\n",
    "    },\n",
    "    {\n",
    "        \"function\": FinnHubUtils.get_basic_financials, \n",
    "        \"name\": \"get_financial_basics\", \n",
    "        \"description\": \"get latest financial basics for a designated company\"\n",
    "    },\n",
    "    {\n",
    "        \"function\": YFinanceUtils.get_stock_data, \n",
    "        \"name\": \"get_stock_data\", \n",
    "        \"description\": \"retrieve stock price data for designated ticker symbol\"\n",
    "    }\n",
    "]\n",
    "register_toolkit(tools, analyst, user_proxy)"
   ]
  },
  {
   "cell_type": "markdown",
   "metadata": {},
   "source": [
    "Start the conversation, asking the agent to call all the functions, and see how it aggregates all the information and leads to the conclusion."
   ]
  },
  {
   "cell_type": "code",
   "execution_count": null,
   "metadata": {},
   "outputs": [],
   "source": [
    "# company = \"Tesla\"\n",
    "company = \"APPLE\"\n",
    "\n",
    "with Cache.disk() as cache:\n",
    "    # start the conversation\n",
    "    user_proxy.initiate_chat(\n",
    "        analyst,\n",
    "        message=f\"Use all the tools provided to retrieve information available for {company} upon {get_current_date()}. Analyze the positive developments and potential concerns of {company} \"\n",
    "            \"with 2-4 most important factors respectively and keep them concise. Most factors should be inferred from company related news. \"\n",
    "            f\"Then make a rough prediction (e.g. up/down by 2-3%) of the {company} stock price movement for next week. Provide a summary analysis to support your prediction.\",\n",
    "        cache=cache,\n",
    "    )"
   ]
  }
 ],
 "metadata": {
  "kernelspec": {
   "display_name": "finrobot",
   "language": "python",
   "name": "python3"
  },
  "language_info": {
   "codemirror_mode": {
    "name": "ipython",
    "version": 3
   },
   "file_extension": ".py",
   "mimetype": "text/x-python",
   "name": "python",
   "nbconvert_exporter": "python",
   "pygments_lexer": "ipython3",
   "version": "3.12.2"
  }
 },
 "nbformat": 4,
 "nbformat_minor": 2
}
