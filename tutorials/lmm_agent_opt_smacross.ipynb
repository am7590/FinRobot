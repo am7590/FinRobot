{
 "cells": [
  {
   "cell_type": "markdown",
   "metadata": {},
   "source": [
    "# Optimizing SMACross Trading with MultiModal Agent"
   ]
  },
  {
   "cell_type": "markdown",
   "metadata": {},
   "source": [
    "In this demo, we introduce an agent workflow that write trading strategy and refine it throught backtesting using the **BackTrader** library."
   ]
  },
  {
   "cell_type": "code",
   "execution_count": null,
   "metadata": {},
   "outputs": [],
   "source": [
    "import os\n",
    "import autogen\n",
    "from autogen.cache import Cache\n",
    "\n",
    "from finrobot.functional.quantitative import BackTraderUtils\n",
    "from finrobot.toolkits import register_toolkits, register_code_writing\n",
    "from textwrap import dedent"
   ]
  },
  {
   "cell_type": "code",
   "execution_count": null,
   "metadata": {},
   "outputs": [],
   "source": [
    "config_list = autogen.config_list_from_json(\n",
    "    \"../OAI_CONFIG_LIST\",\n",
    "    filter_dict={\n",
    "        \"model\": [\"gpt-4-0125-preview\"],\n",
    "    },\n",
    ")\n",
    "llm_config = {\n",
    "    \"config_list\": config_list,\n",
    "    \"timeout\": 120,\n",
    "    \"temperature\": 0\n",
    "}\n",
    "\n",
    "from finrobot.functional.coding import default_path\n",
    "\n",
    "# Intermediate strategy modules will be saved in this directory\n",
    "work_dir = default_path\n",
    "os.makedirs(work_dir, exist_ok=True)"
   ]
  },
  {
   "cell_type": "markdown",
   "metadata": {},
   "source": [
    "For this task, we need:\n",
    "- A normal llm agent as data provider: Call charting functions and provide instructions for multimodal agent\n",
    "- A multimodal agent as market analyst: Extract the necessary information from the chart and analyze the future trend of this stock.\n",
    "- A user proxy to execute python functions and control the conversations."
   ]
  },
  {
   "cell_type": "code",
   "execution_count": null,
   "metadata": {},
   "outputs": [],
   "source": [
    "strategist = autogen.AssistantAgent(\n",
    "    name=\"Trade_Strategist\",\n",
    "    system_message=dedent(\"\"\"\n",
    "        You are a trading strategist known for your expertise in developing sophisticated trading algorithms. \n",
    "        Your task is to utilize the existing SmaCross strategy (for which you don't need to write code, just specifying params) \n",
    "        or leverage your coding skills to create a customized trading strategy using the BackTrader Python library, and save it as a Python module. \n",
    "        You must provide trading strategies based on user demands and optimize them according to backtesting results.\n",
    "        However, if backtesting came back with failed attempts, you should help with the examination and fix bugs.\n",
    "        Reply TERMINATE to executer when the strategy is ready to be tested.\n",
    "        \"\"\"),\n",
    "    llm_config=llm_config,\n",
    ")\n",
    "strategist_executor = autogen.UserProxyAgent(\n",
    "    name=\"Trade_Strategist_Executor\",\n",
    "    human_input_mode=\"NEVER\",\n",
    "    is_termination_msg=lambda x: x.get(\"content\", \"\") and x.get(\"content\", \"\").find(\"TERMINATE\") >= 0,\n",
    "    code_execution_config={\n",
    "        \"last_n_messages\": 1,\n",
    "        \"work_dir\": work_dir,\n",
    "        \"use_docker\": False,\n",
    "    },  # Please set use_docker=True if docker is available to run the generated code. Using docker is safer than running the generated code directly.\n",
    ")\n",
    "register_code_writing(strategist, strategist_executor)\n",
    "\n",
    "analyst = autogen.AssistantAgent(\n",
    "    name=\"Backtesting_Analyst\",\n",
    "    system_message=dedent(\"\"\"\n",
    "        You are a backtesting analyst with a strong command of quantitative analysis tools. \n",
    "        Your primary role is to employ backtesting tools to rigorously evaluate the efficacy of designated trading strategies. \n",
    "        Upon completing your analysis, you are responsible for compiling and reporting the results in a clear and comprehensive manner, providing key insights that will inform further strategy development and refinement.\n",
    "        However, if not all necessary information needed for backtesting is provided, you can skip backtesting and ask the strategist for additional details.\n",
    "        Reply TERMINATE when the backtesting and analysis is complete.\n",
    "        \"\"\"),\n",
    "    llm_config=llm_config,\n",
    ")\n",
    "analyst_executor = autogen.UserProxyAgent(\n",
    "    name=\"Backtesting_Analyst_Executor\",\n",
    "    human_input_mode=\"NEVER\",\n",
    "    is_termination_msg=lambda x: x.get(\"content\", \"\") and x.get(\"content\", \"\").find(\"TERMINATE\") >= 0,\n",
    "    code_execution_config={\n",
    "        \"last_n_messages\": 1,\n",
    "        \"work_dir\": work_dir,\n",
    "        \"use_docker\": False,\n",
    "    },  # Please set use_docker=True if docker is available to run the generated code. Using docker is safer than running the generated code directly.\n",
    ")\n",
    "register_toolkits([BackTraderUtils.back_test], analyst, analyst_executor)\n"
   ]
  },
  {
   "cell_type": "code",
   "execution_count": null,
   "metadata": {},
   "outputs": [],
   "source": [
    "def reflection_message_analyst(recipient, messages, sender, config):\n",
    "    print(\"Reflecting strategist's response ...\")\n",
    "    last_msg = recipient.chat_messages_for_summary(sender)[-1]['content']\n",
    "    return \"Message from Trade Strategist is as follows:\" + last_msg + \"\\n\\nIf the strategist has completed his work properly, he should have designated a predefined trading strategy or saved a strategy he defined as a Python module. \" \\\n",
    "        \"Based on his information, conduct a backtest on the specified stock and strategy, and report your backtesting results back to the strategist.\"\n",
    "\n",
    "def reflection_message_strategist(recipient, messages, sender, config):\n",
    "    print(\"Reflecting analyst's response ...\")\n",
    "    last_msg = recipient.chat_messages_for_summary(sender)[-1]['content']\n",
    "    return \"Message from Backtesting Analyst is as follows:\" + last_msg + \"\\n\\nIf the analyst has completed his work properly, he should have completed the backtesting for the specified strategy and reported the results. \" \\\n",
    "        \"Based on the backtesting results, assess whether the current strategy meets the requirements. If the current strategy still does not meet the requirements, or if you believe that other strategies need to be tested, \" \\\n",
    "        \"continue to refine or provide new strategies, and then resubmit your backtesting requirements to the analyst.\"\n",
    "\n",
    "user_proxy = autogen.UserProxyAgent(\n",
    "    name=\"User_Proxy\",\n",
    "    is_termination_msg=lambda x: x.get(\"content\", \"\") and x.get(\"content\", \"\").endswith(\"TERMINATE\"),\n",
    "    human_input_mode=\"NEVER\",\n",
    "    max_consecutive_auto_reply=10,\n",
    "    code_execution_config=False         # User Proxy dont need to execute code here\n",
    ")\n",
    "user_proxy.register_nested_chats(\n",
    "    [\n",
    "        {\n",
    "            \"sender\": analyst_executor,\n",
    "            \"recipient\": analyst,\n",
    "            \"message\": reflection_message_analyst,\n",
    "            \"max_turns\": 2,\n",
    "            \"summary_method\": \"last_msg\",\n",
    "        }\n",
    "    ],\n",
    "    trigger=[strategist, strategist_executor],\n",
    ")\n",
    "user_proxy.register_nested_chats(\n",
    "    [\n",
    "        {\n",
    "            \"sender\": strategist_executor,\n",
    "            \"recipient\": strategist,\n",
    "            \"message\": reflection_message_strategist,\n",
    "            \"max_turns\": 5,\n",
    "            \"summary_method\": \"last_msg\",\n",
    "        }\n",
    "    ],\n",
    "    trigger=[analyst, analyst_executor],\n",
    ")"
   ]
  },
  {
   "cell_type": "markdown",
   "metadata": {},
   "source": [
    "To prevent unexpected chat sequence arrangements in group chats, we opt for manual orchestration for this task. After the data provider supplies the data, the user proxy summarizes it and then presents it to the Multimodal market analyst for analysis."
   ]
  },
  {
   "cell_type": "code",
   "execution_count": null,
   "metadata": {},
   "outputs": [],
   "source": [
    "company = \"Microsoft\"\n",
    "start_date = \"2023-01-01\"\n",
    "end_date = \"2024-01-01\"\n",
    "\n",
    "task = dedent(f\"\"\"\n",
    "    Based on {company}'s stock data from {start_date} to {end_date}, develop a trading strategy that performs well on this stock. \n",
    "    You can start your research by providing an SMACross strategy as your baseline, then after receiving the backtest analysis, you might adjust parameters to try again \n",
    "    or create a more optimized trade by writing your own python strategy class with BackTrader's `Strategy`. \n",
    "    Once you have determined your strategy, you need to inform the backtesting analyst which strategy to use for backtesting on what data. \n",
    "    If it is your own written strategy class, you need to report the corresponding module path and class name, as well as any parameters that the strategy might require.\n",
    "\"\"\")\n",
    "\n",
    "with Cache.disk() as cache:\n",
    "    user_proxy.initiate_chat(\n",
    "        recipient=strategist,\n",
    "        message=task,\n",
    "        max_turns=10,\n",
    "        summary_method=\"last_msg\"\n",
    "    )"
   ]
  }
 ],
 "metadata": {
  "kernelspec": {
   "display_name": "finrobot",
   "language": "python",
   "name": "python3"
  },
  "language_info": {
   "codemirror_mode": {
    "name": "ipython",
    "version": 3
   },
   "file_extension": ".py",
   "mimetype": "text/x-python",
   "name": "python",
   "nbconvert_exporter": "python",
   "pygments_lexer": "ipython3",
   "version": "3.10.14"
  }
 },
 "nbformat": 4,
 "nbformat_minor": 2
}
